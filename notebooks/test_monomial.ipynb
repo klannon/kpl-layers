{
 "cells": [
  {
   "cell_type": "code",
   "execution_count": 1,
   "id": "d4e208de-d691-473e-b32b-f146199fb7e5",
   "metadata": {},
   "outputs": [],
   "source": [
    "# Why is this not just a standard feature of every notebook?\n",
    "%load_ext autoreload\n",
    "%autoreload 2"
   ]
  },
  {
   "cell_type": "code",
   "execution_count": 2,
   "id": "1933798a-fa39-4027-b164-6d73dcab2b13",
   "metadata": {},
   "outputs": [],
   "source": [
    "from kpl_layers import polynomial\n",
    "import torch"
   ]
  },
  {
   "cell_type": "code",
   "execution_count": 3,
   "id": "22264e95-43e9-4ce7-96f6-62b25793076c",
   "metadata": {},
   "outputs": [],
   "source": [
    "x1 = polynomial.MonomialLayer(1,2)"
   ]
  },
  {
   "cell_type": "code",
   "execution_count": 4,
   "id": "7c3d0b07-582c-4743-9717-a5bf7beeec7f",
   "metadata": {},
   "outputs": [
    {
     "data": {
      "text/plain": [
       "tensor([[1, 0],\n",
       "        [1, 1]], dtype=torch.int32)"
      ]
     },
     "execution_count": 4,
     "metadata": {},
     "output_type": "execute_result"
    }
   ],
   "source": [
    "x1.m_ind"
   ]
  },
  {
   "cell_type": "code",
   "execution_count": 5,
   "id": "296672c6-cbb6-4440-af12-cb495d0ce71c",
   "metadata": {},
   "outputs": [
    {
     "data": {
      "text/plain": [
       "1"
      ]
     },
     "execution_count": 5,
     "metadata": {},
     "output_type": "execute_result"
    }
   ],
   "source": [
    "x1.n_inputs"
   ]
  },
  {
   "cell_type": "code",
   "execution_count": 6,
   "id": "cf256367-0978-4189-bbc2-86aeda02d7d1",
   "metadata": {},
   "outputs": [
    {
     "data": {
      "text/plain": [
       "2"
      ]
     },
     "execution_count": 6,
     "metadata": {},
     "output_type": "execute_result"
    }
   ],
   "source": [
    "x1.n_outputs"
   ]
  },
  {
   "cell_type": "code",
   "execution_count": 7,
   "id": "750e30d1-59f8-4979-b942-325ae043ad49",
   "metadata": {},
   "outputs": [
    {
     "name": "stdout",
     "output_type": "stream",
     "text": [
      "tensor([[0., 0.],\n",
      "        [1., 1.],\n",
      "        [2., 4.],\n",
      "        [3., 9.]])\n"
     ]
    }
   ],
   "source": [
    "out1 = x1.forward(torch.Tensor([[0.],[1.],[2.],[3.]]))\n",
    "print(out1)"
   ]
  },
  {
   "cell_type": "code",
   "execution_count": 8,
   "id": "f75734a6-68dd-41eb-a856-593aca570896",
   "metadata": {},
   "outputs": [],
   "source": [
    "x2 = polynomial.MonomialLayer(16,2)"
   ]
  },
  {
   "cell_type": "code",
   "execution_count": 9,
   "id": "461a87e0-ad10-4e49-9adb-b6a03911c3a7",
   "metadata": {},
   "outputs": [
    {
     "data": {
      "text/plain": [
       "tensor([[ 1,  0],\n",
       "        [ 1,  1],\n",
       "        [ 2,  0],\n",
       "        [ 2,  1],\n",
       "        [ 2,  2],\n",
       "        [ 3,  0],\n",
       "        [ 3,  1],\n",
       "        [ 3,  2],\n",
       "        [ 3,  3],\n",
       "        [ 4,  0],\n",
       "        [ 4,  1],\n",
       "        [ 4,  2],\n",
       "        [ 4,  3],\n",
       "        [ 4,  4],\n",
       "        [ 5,  0],\n",
       "        [ 5,  1],\n",
       "        [ 5,  2],\n",
       "        [ 5,  3],\n",
       "        [ 5,  4],\n",
       "        [ 5,  5],\n",
       "        [ 6,  0],\n",
       "        [ 6,  1],\n",
       "        [ 6,  2],\n",
       "        [ 6,  3],\n",
       "        [ 6,  4],\n",
       "        [ 6,  5],\n",
       "        [ 6,  6],\n",
       "        [ 7,  0],\n",
       "        [ 7,  1],\n",
       "        [ 7,  2],\n",
       "        [ 7,  3],\n",
       "        [ 7,  4],\n",
       "        [ 7,  5],\n",
       "        [ 7,  6],\n",
       "        [ 7,  7],\n",
       "        [ 8,  0],\n",
       "        [ 8,  1],\n",
       "        [ 8,  2],\n",
       "        [ 8,  3],\n",
       "        [ 8,  4],\n",
       "        [ 8,  5],\n",
       "        [ 8,  6],\n",
       "        [ 8,  7],\n",
       "        [ 8,  8],\n",
       "        [ 9,  0],\n",
       "        [ 9,  1],\n",
       "        [ 9,  2],\n",
       "        [ 9,  3],\n",
       "        [ 9,  4],\n",
       "        [ 9,  5],\n",
       "        [ 9,  6],\n",
       "        [ 9,  7],\n",
       "        [ 9,  8],\n",
       "        [ 9,  9],\n",
       "        [10,  0],\n",
       "        [10,  1],\n",
       "        [10,  2],\n",
       "        [10,  3],\n",
       "        [10,  4],\n",
       "        [10,  5],\n",
       "        [10,  6],\n",
       "        [10,  7],\n",
       "        [10,  8],\n",
       "        [10,  9],\n",
       "        [10, 10],\n",
       "        [11,  0],\n",
       "        [11,  1],\n",
       "        [11,  2],\n",
       "        [11,  3],\n",
       "        [11,  4],\n",
       "        [11,  5],\n",
       "        [11,  6],\n",
       "        [11,  7],\n",
       "        [11,  8],\n",
       "        [11,  9],\n",
       "        [11, 10],\n",
       "        [11, 11],\n",
       "        [12,  0],\n",
       "        [12,  1],\n",
       "        [12,  2],\n",
       "        [12,  3],\n",
       "        [12,  4],\n",
       "        [12,  5],\n",
       "        [12,  6],\n",
       "        [12,  7],\n",
       "        [12,  8],\n",
       "        [12,  9],\n",
       "        [12, 10],\n",
       "        [12, 11],\n",
       "        [12, 12],\n",
       "        [13,  0],\n",
       "        [13,  1],\n",
       "        [13,  2],\n",
       "        [13,  3],\n",
       "        [13,  4],\n",
       "        [13,  5],\n",
       "        [13,  6],\n",
       "        [13,  7],\n",
       "        [13,  8],\n",
       "        [13,  9],\n",
       "        [13, 10],\n",
       "        [13, 11],\n",
       "        [13, 12],\n",
       "        [13, 13],\n",
       "        [14,  0],\n",
       "        [14,  1],\n",
       "        [14,  2],\n",
       "        [14,  3],\n",
       "        [14,  4],\n",
       "        [14,  5],\n",
       "        [14,  6],\n",
       "        [14,  7],\n",
       "        [14,  8],\n",
       "        [14,  9],\n",
       "        [14, 10],\n",
       "        [14, 11],\n",
       "        [14, 12],\n",
       "        [14, 13],\n",
       "        [14, 14],\n",
       "        [15,  0],\n",
       "        [15,  1],\n",
       "        [15,  2],\n",
       "        [15,  3],\n",
       "        [15,  4],\n",
       "        [15,  5],\n",
       "        [15,  6],\n",
       "        [15,  7],\n",
       "        [15,  8],\n",
       "        [15,  9],\n",
       "        [15, 10],\n",
       "        [15, 11],\n",
       "        [15, 12],\n",
       "        [15, 13],\n",
       "        [15, 14],\n",
       "        [15, 15],\n",
       "        [16,  0],\n",
       "        [16,  1],\n",
       "        [16,  2],\n",
       "        [16,  3],\n",
       "        [16,  4],\n",
       "        [16,  5],\n",
       "        [16,  6],\n",
       "        [16,  7],\n",
       "        [16,  8],\n",
       "        [16,  9],\n",
       "        [16, 10],\n",
       "        [16, 11],\n",
       "        [16, 12],\n",
       "        [16, 13],\n",
       "        [16, 14],\n",
       "        [16, 15],\n",
       "        [16, 16]], dtype=torch.int32)"
      ]
     },
     "execution_count": 9,
     "metadata": {},
     "output_type": "execute_result"
    }
   ],
   "source": [
    "x2.m_ind"
   ]
  },
  {
   "cell_type": "code",
   "execution_count": 10,
   "id": "e9854766-ebba-436c-8d69-da087a9a925f",
   "metadata": {},
   "outputs": [
    {
     "data": {
      "text/plain": [
       "152"
      ]
     },
     "execution_count": 10,
     "metadata": {},
     "output_type": "execute_result"
    }
   ],
   "source": [
    "x2.n_outputs"
   ]
  },
  {
   "cell_type": "code",
   "execution_count": 11,
   "id": "ed6a208c-2eee-441c-977f-b4bf8e4c6dd3",
   "metadata": {},
   "outputs": [
    {
     "name": "stdout",
     "output_type": "stream",
     "text": [
      "tensor([[ 1.,  1.,  0.,  ...,  0.,  0.,  0.],\n",
      "        [ 0.,  0.,  1.,  ...,  0.,  0.,  0.],\n",
      "        [ 0.,  0.,  0.,  ...,  0.,  0.,  0.],\n",
      "        ...,\n",
      "        [ 3.,  9.,  0.,  ...,  0.,  0.,  0.],\n",
      "        [ 0.,  0.,  4.,  ...,  0.,  0.,  0.],\n",
      "        [ 0.,  0.,  0.,  ...,  0., 25., 25.]])\n",
      "torch.Size([20, 152])\n"
     ]
    }
   ],
   "source": [
    "input2 = torch.zeros(20,16)\n",
    "input2[0:16,:] = torch.eye(16)\n",
    "input2[16,[0,1]]=2\n",
    "input2[17,[0,9]]=3\n",
    "input2[18,[1,7]]=4\n",
    "input2[19,[14,15]]=5\n",
    "out2 = x2.forward(input2)\n",
    "print(out2)\n",
    "print(out2.shape)"
   ]
  },
  {
   "cell_type": "code",
   "execution_count": 12,
   "id": "1e72dd1f-c4d5-4e64-b706-0187de379f75",
   "metadata": {},
   "outputs": [],
   "source": [
    "x3 = polynomial.MonomialLayer(2,3)"
   ]
  },
  {
   "cell_type": "code",
   "execution_count": 13,
   "id": "772471d6-be81-4032-bf29-a4ab725a8cd0",
   "metadata": {},
   "outputs": [
    {
     "data": {
      "text/plain": [
       "tensor([[1, 0, 0],\n",
       "        [1, 1, 0],\n",
       "        [1, 1, 1],\n",
       "        [2, 0, 0],\n",
       "        [2, 1, 0],\n",
       "        [2, 1, 1],\n",
       "        [2, 2, 0],\n",
       "        [2, 2, 1],\n",
       "        [2, 2, 2]], dtype=torch.int32)"
      ]
     },
     "execution_count": 13,
     "metadata": {},
     "output_type": "execute_result"
    }
   ],
   "source": [
    "x3.m_ind"
   ]
  },
  {
   "cell_type": "code",
   "execution_count": 14,
   "id": "7f9636e5-639b-4de1-937a-93d823a97e5c",
   "metadata": {},
   "outputs": [
    {
     "data": {
      "text/plain": [
       "9"
      ]
     },
     "execution_count": 14,
     "metadata": {},
     "output_type": "execute_result"
    }
   ],
   "source": [
    "x3.n_outputs"
   ]
  },
  {
   "cell_type": "code",
   "execution_count": 15,
   "id": "7739aa97-ea8a-4e33-b9e3-93c91630abde",
   "metadata": {},
   "outputs": [
    {
     "name": "stdout",
     "output_type": "stream",
     "text": [
      "tensor([[ 1.1000,  1.2100,  1.3310,  0.9000,  0.9900,  1.0890,  0.8100,  0.8910,\n",
      "          0.7290],\n",
      "        [ 1.0000,  1.0000,  1.0000,  2.0000,  2.0000,  2.0000,  4.0000,  4.0000,\n",
      "          8.0000],\n",
      "        [ 0.0000,  0.0000,  0.0000,  1.0000,  0.0000,  0.0000,  1.0000,  0.0000,\n",
      "          1.0000],\n",
      "        [ 3.0000,  9.0000, 27.0000,  4.0000, 12.0000, 36.0000, 16.0000, 48.0000,\n",
      "         64.0000]])\n",
      "torch.Size([4, 9])\n"
     ]
    }
   ],
   "source": [
    "out3 = x3.forward(torch.Tensor([[1.1,0.9],[1.,2.],[0.,1.],[3.,4.]]))\n",
    "print(out3)\n",
    "print(out3.shape)"
   ]
  },
  {
   "cell_type": "code",
   "execution_count": 16,
   "id": "a00e15a6-64e5-4a00-9e22-a4e10e38bebc",
   "metadata": {},
   "outputs": [],
   "source": [
    "x4 = polynomial.MonomialLayer(2,7)"
   ]
  },
  {
   "cell_type": "code",
   "execution_count": 17,
   "id": "e191cc9d-3a56-49a6-945b-9f908fffcab9",
   "metadata": {},
   "outputs": [
    {
     "data": {
      "text/plain": [
       "tensor([[1, 0, 0, 0, 0, 0, 0],\n",
       "        [1, 1, 0, 0, 0, 0, 0],\n",
       "        [1, 1, 1, 0, 0, 0, 0],\n",
       "        [1, 1, 1, 1, 0, 0, 0],\n",
       "        [1, 1, 1, 1, 1, 0, 0],\n",
       "        [1, 1, 1, 1, 1, 1, 0],\n",
       "        [1, 1, 1, 1, 1, 1, 1],\n",
       "        [2, 0, 0, 0, 0, 0, 0],\n",
       "        [2, 1, 0, 0, 0, 0, 0],\n",
       "        [2, 1, 1, 0, 0, 0, 0],\n",
       "        [2, 1, 1, 1, 0, 0, 0],\n",
       "        [2, 1, 1, 1, 1, 0, 0],\n",
       "        [2, 1, 1, 1, 1, 1, 0],\n",
       "        [2, 1, 1, 1, 1, 1, 1],\n",
       "        [2, 2, 0, 0, 0, 0, 0],\n",
       "        [2, 2, 1, 0, 0, 0, 0],\n",
       "        [2, 2, 1, 1, 0, 0, 0],\n",
       "        [2, 2, 1, 1, 1, 0, 0],\n",
       "        [2, 2, 1, 1, 1, 1, 0],\n",
       "        [2, 2, 1, 1, 1, 1, 1],\n",
       "        [2, 2, 2, 0, 0, 0, 0],\n",
       "        [2, 2, 2, 1, 0, 0, 0],\n",
       "        [2, 2, 2, 1, 1, 0, 0],\n",
       "        [2, 2, 2, 1, 1, 1, 0],\n",
       "        [2, 2, 2, 1, 1, 1, 1],\n",
       "        [2, 2, 2, 2, 0, 0, 0],\n",
       "        [2, 2, 2, 2, 1, 0, 0],\n",
       "        [2, 2, 2, 2, 1, 1, 0],\n",
       "        [2, 2, 2, 2, 1, 1, 1],\n",
       "        [2, 2, 2, 2, 2, 0, 0],\n",
       "        [2, 2, 2, 2, 2, 1, 0],\n",
       "        [2, 2, 2, 2, 2, 1, 1],\n",
       "        [2, 2, 2, 2, 2, 2, 0],\n",
       "        [2, 2, 2, 2, 2, 2, 1],\n",
       "        [2, 2, 2, 2, 2, 2, 2]], dtype=torch.int32)"
      ]
     },
     "execution_count": 17,
     "metadata": {},
     "output_type": "execute_result"
    }
   ],
   "source": [
    "x4.m_ind"
   ]
  },
  {
   "cell_type": "code",
   "execution_count": 18,
   "id": "f04b7ffb-6741-499d-b472-d714e163dacb",
   "metadata": {},
   "outputs": [
    {
     "data": {
      "text/plain": [
       "35"
      ]
     },
     "execution_count": 18,
     "metadata": {},
     "output_type": "execute_result"
    }
   ],
   "source": [
    "x4.n_outputs"
   ]
  },
  {
   "cell_type": "code",
   "execution_count": 19,
   "id": "eec2f57e-0787-4551-b211-eb21a4b22127",
   "metadata": {},
   "outputs": [
    {
     "name": "stdout",
     "output_type": "stream",
     "text": [
      "tensor([[1.1000e+00, 1.2100e+00, 1.3310e+00, 1.4641e+00, 1.6105e+00, 1.7716e+00,\n",
      "         1.9487e+00, 9.0000e-01, 9.9000e-01, 1.0890e+00, 1.1979e+00, 1.3177e+00,\n",
      "         1.4495e+00, 1.5944e+00, 8.1000e-01, 8.9100e-01, 9.8010e-01, 1.0781e+00,\n",
      "         1.1859e+00, 1.3045e+00, 7.2900e-01, 8.0190e-01, 8.8209e-01, 9.7030e-01,\n",
      "         1.0673e+00, 6.5610e-01, 7.2171e-01, 7.9388e-01, 8.7327e-01, 5.9049e-01,\n",
      "         6.4954e-01, 7.1449e-01, 5.3144e-01, 5.8459e-01, 4.7830e-01],\n",
      "        [1.0000e+00, 1.0000e+00, 1.0000e+00, 1.0000e+00, 1.0000e+00, 1.0000e+00,\n",
      "         1.0000e+00, 2.0000e+00, 2.0000e+00, 2.0000e+00, 2.0000e+00, 2.0000e+00,\n",
      "         2.0000e+00, 2.0000e+00, 4.0000e+00, 4.0000e+00, 4.0000e+00, 4.0000e+00,\n",
      "         4.0000e+00, 4.0000e+00, 8.0000e+00, 8.0000e+00, 8.0000e+00, 8.0000e+00,\n",
      "         8.0000e+00, 1.6000e+01, 1.6000e+01, 1.6000e+01, 1.6000e+01, 3.2000e+01,\n",
      "         3.2000e+01, 3.2000e+01, 6.4000e+01, 6.4000e+01, 1.2800e+02],\n",
      "        [0.0000e+00, 0.0000e+00, 0.0000e+00, 0.0000e+00, 0.0000e+00, 0.0000e+00,\n",
      "         0.0000e+00, 1.0000e+00, 0.0000e+00, 0.0000e+00, 0.0000e+00, 0.0000e+00,\n",
      "         0.0000e+00, 0.0000e+00, 1.0000e+00, 0.0000e+00, 0.0000e+00, 0.0000e+00,\n",
      "         0.0000e+00, 0.0000e+00, 1.0000e+00, 0.0000e+00, 0.0000e+00, 0.0000e+00,\n",
      "         0.0000e+00, 1.0000e+00, 0.0000e+00, 0.0000e+00, 0.0000e+00, 1.0000e+00,\n",
      "         0.0000e+00, 0.0000e+00, 1.0000e+00, 0.0000e+00, 1.0000e+00],\n",
      "        [3.0000e+00, 9.0000e+00, 2.7000e+01, 8.1000e+01, 2.4300e+02, 7.2900e+02,\n",
      "         2.1870e+03, 4.0000e+00, 1.2000e+01, 3.6000e+01, 1.0800e+02, 3.2400e+02,\n",
      "         9.7200e+02, 2.9160e+03, 1.6000e+01, 4.8000e+01, 1.4400e+02, 4.3200e+02,\n",
      "         1.2960e+03, 3.8880e+03, 6.4000e+01, 1.9200e+02, 5.7600e+02, 1.7280e+03,\n",
      "         5.1840e+03, 2.5600e+02, 7.6800e+02, 2.3040e+03, 6.9120e+03, 1.0240e+03,\n",
      "         3.0720e+03, 9.2160e+03, 4.0960e+03, 1.2288e+04, 1.6384e+04]])\n",
      "torch.Size([4, 35])\n"
     ]
    }
   ],
   "source": [
    "out4 = x4.forward(torch.Tensor([[1.1,0.9],[1.,2.],[0.,1.],[3.,4.]]))\n",
    "print(out4)\n",
    "print(out4.shape)"
   ]
  }
 ],
 "metadata": {
  "kernelspec": {
   "display_name": "Python 3 (ipykernel)",
   "language": "python",
   "name": "python3"
  },
  "language_info": {
   "codemirror_mode": {
    "name": "ipython",
    "version": 3
   },
   "file_extension": ".py",
   "mimetype": "text/x-python",
   "name": "python",
   "nbconvert_exporter": "python",
   "pygments_lexer": "ipython3",
   "version": "3.9.7"
  }
 },
 "nbformat": 4,
 "nbformat_minor": 5
}
